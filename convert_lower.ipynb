{
 "cells": [
  {
   "cell_type": "code",
   "source": [
    "import cv2\n",
    "import os\n",
    "\n",
    "chemin_repertoire = \"/media/nico/D07D-A468/DCIM/101GOPRO\"\n",
    "out = cv2.VideoWriter('output.mp4', cv2.VideoWriter_fourcc(*'mp4v'), 29, (1920, 1080))\n",
    "\n",
    "os.chdir(chemin_repertoire)\n",
    "listdir = os.listdir(chemin_repertoire)\n",
    "sorted_listdir = sorted(listdir, key=os.path.getmtime)\n",
    "for nom_fichier in sorted_listdir:\n",
    "    if nom_fichier[-4:] == \".MP4\":\n",
    "        i = 0\n",
    "        print(nom_fichier)\n",
    "        video = cv2.VideoCapture(chemin_repertoire + '/' + nom_fichier)\n",
    "        ret, frame = video.read()\n",
    "        out.write(frame)\n",
    "        while ret:\n",
    "            i += 25*60\n",
    "            video.set(cv2.CAP_PROP_POS_FRAMES, i)\n",
    "            ret, frame = video.read()\n",
    "            out.write(frame)\n",
    "        video.release()\n",
    "\n",
    "out.release()\n"
   ],
   "metadata": {
    "collapsed": false
   },
   "outputs": [],
   "execution_count": null
  }
 ],
 "metadata": {
  "kernelspec": {
   "display_name": "Python 3",
   "language": "python",
   "name": "python3"
  },
  "language_info": {
   "codemirror_mode": {
    "name": "ipython",
    "version": 2
   },
   "file_extension": ".py",
   "mimetype": "text/x-python",
   "name": "python",
   "nbconvert_exporter": "python",
   "pygments_lexer": "ipython2",
   "version": "2.7.6"
  }
 },
 "nbformat": 4,
 "nbformat_minor": 0
}
