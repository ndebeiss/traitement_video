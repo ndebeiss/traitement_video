{
 "cells": [
  {
   "cell_type": "code",
   "metadata": {
    "collapsed": true
   },
   "source": [
    "import os\n",
    "\n",
    "chemin_repertoire = \"/home/nico/pCloudDrive/Videos/camera\"\n",
    "\n",
    "\n",
    "for path, subdirs, files in os.walk(chemin_repertoire):\n",
    "    for nom_fichier in files:\n",
    "        if nom_fichier[-5:] == \".m2ts\":\n",
    "            print(nom_fichier)\n",
    "            cmd = 'ffmpeg -i \"' + path + '/' + nom_fichier + '\" -c:v libx264 -c:a aac -b:a 128k \"' + path + '/' + nom_fichier[0:-5] + '.mp4\"'\n",
    "            print(cmd)\n",
    "            stream = os.popen(cmd)\n",
    "            output = stream.read()\n",
    "            print(output)\n",
    "            cmd_rm = 'rm \"' + path + '/' + nom_fichier + '\"'\n",
    "            print(cmd_rm)\n",
    "            stream_rm = os.popen(cmd_rm)\n",
    "            output_rm = stream_rm.read()\n",
    "            print(output_rm)\n"
   ],
   "outputs": [],
   "execution_count": null
  }
 ],
 "metadata": {
  "kernelspec": {
   "display_name": "Python 3",
   "language": "python",
   "name": "python3"
  },
  "language_info": {
   "codemirror_mode": {
    "name": "ipython",
    "version": 2
   },
   "file_extension": ".py",
   "mimetype": "text/x-python",
   "name": "python",
   "nbconvert_exporter": "python",
   "pygments_lexer": "ipython2",
   "version": "2.7.6"
  }
 },
 "nbformat": 4,
 "nbformat_minor": 0
}
