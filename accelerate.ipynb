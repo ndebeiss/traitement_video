{
 "cells": [
  {
   "cell_type": "code",
   "execution_count": null,
   "id": "initial_id",
   "metadata": {
    "collapsed": true
   },
   "outputs": [],
   "source": [
    "import os\n",
    "import cv2\n",
    "\n",
    "\n",
    "# Chemin vers le répertoire contenant les vidéos\n",
    "chemin_repertoire = \"G:\\\\DCIM\\\\101GOPRO\"\n",
    "os.chdir(chemin_repertoire)\n",
    "listdir = os.listdir(chemin_repertoire)\n",
    "#list_mp4 = sorted([f for f in listdir if f.endswith(\".MP4\")], key=os.path.getmtime)\n",
    "list_mp4 = sorted([f for f in listdir if f.endswith(\".MP4\")])\n",
    "output = cv2.VideoWriter_fourcc(*'mp4v')\n",
    "out = cv2.VideoWriter(\"C:\\\\Users\\\\nicol\\\\Videos\\\\Captures\\\\output.mp4\", output, 29, (1920, 1080))\n",
    "\n",
    "for nom_fichier in list_mp4:\n",
    "    print(nom_fichier)\n",
    "    cap = cv2.VideoCapture(nom_fichier)\n",
    "    current_frame = 0\n",
    "    ret = True\n",
    "    while ret:\n",
    "        cap.set(cv2.CAP_PROP_POS_FRAMES, current_frame)\n",
    "        ret, frame = cap.read()\n",
    "        if ret:\n",
    "            out.write(frame)\n",
    "            current_frame += 25 * 60\n",
    "    cap.release()\n",
    "out.release()\n",
    "cv2.destroyAllWindows()\n"
   ]
  }
 ],
 "metadata": {
  "kernelspec": {
   "display_name": "Python 3",
   "language": "python",
   "name": "python3"
  },
  "language_info": {
   "codemirror_mode": {
    "name": "ipython",
    "version": 2
   },
   "file_extension": ".py",
   "mimetype": "text/x-python",
   "name": "python",
   "nbconvert_exporter": "python",
   "pygments_lexer": "ipython2",
   "version": "2.7.6"
  }
 },
 "nbformat": 4,
 "nbformat_minor": 5
}
