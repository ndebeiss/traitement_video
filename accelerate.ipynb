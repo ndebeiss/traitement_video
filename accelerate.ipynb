{
 "cells": [
  {
   "cell_type": "code",
   "execution_count": null,
   "id": "initial_id",
   "metadata": {
    "collapsed": true,
    "is_executing": true,
    "ExecuteTime": {
     "start_time": "2024-05-01T20:50:40.946125Z"
    }
   },
   "outputs": [
    {
     "name": "stdout",
     "output_type": "stream",
     "text": [
      "GOPR1445.MP4\n",
      "GP011445.MP4\n",
      "GP021445.MP4\n",
      "GP031445.MP4\n",
      "GP041445.MP4\n",
      "GP051445.MP4\n",
      "GP061445.MP4\n",
      "GP071445.MP4\n",
      "GP081445.MP4\n",
      "GP091445.MP4\n",
      "GP101445.MP4\n",
      "GP111445.MP4\n",
      "GP121445.MP4\n",
      "GP131445.MP4\n",
      "GP141445.MP4\n",
      "GP151445.MP4\n",
      "GP161445.MP4\n",
      "GP171445.MP4\n",
      "GP181445.MP4\n",
      "GP191445.MP4\n",
      "GP201445.MP4\n",
      "GP211445.MP4\n",
      "GP221445.MP4\n",
      "GP231445.MP4\n",
      "GP241445.MP4\n",
      "GP251445.MP4\n",
      "GP261445.MP4\n",
      "GP271445.MP4\n",
      "GP281445.MP4\n",
      "GP291445.MP4\n",
      "GP301445.MP4\n",
      "GP311445.MP4\n"
     ]
    }
   ],
   "source": [
    "import os\n",
    "import cv2\n",
    "\n",
    "\n",
    "# Chemin vers le répertoire contenant les vidéos\n",
    "chemin_repertoire = \"C:\\\\Users\\\\nicol\\\\Videos\\\\amaryllis\"\n",
    "os.chdir(chemin_repertoire)\n",
    "listdir = os.listdir(chemin_repertoire)\n",
    "list_mp4 = sorted([f for f in listdir if f.endswith(\".MP4\")], key=os.path.getmtime)\n",
    "output = cv2.VideoWriter_fourcc(*'mp4v')\n",
    "out = cv2.VideoWriter(\"output.mp4\", output, 29, (1920, 1080))\n",
    "\n",
    "for nom_fichier in list_mp4:\n",
    "    print(nom_fichier)\n",
    "    cap = cv2.VideoCapture(nom_fichier)\n",
    "    current_frame = 0\n",
    "    ret = True\n",
    "    while ret:\n",
    "        cap.set(cv2.CAP_PROP_POS_MSEC, current_frame)\n",
    "        ret, frame = cap.read()\n",
    "        if ret:\n",
    "            out.write(frame)\n",
    "            current_frame += 25 * 60\n",
    "    cap.release()\n",
    "output.release()\n",
    "cv2.destroyAllWindows()\n"
   ]
  }
 ],
 "metadata": {
  "kernelspec": {
   "display_name": "Python 3",
   "language": "python",
   "name": "python3"
  },
  "language_info": {
   "codemirror_mode": {
    "name": "ipython",
    "version": 2
   },
   "file_extension": ".py",
   "mimetype": "text/x-python",
   "name": "python",
   "nbconvert_exporter": "python",
   "pygments_lexer": "ipython2",
   "version": "2.7.6"
  }
 },
 "nbformat": 4,
 "nbformat_minor": 5
}
